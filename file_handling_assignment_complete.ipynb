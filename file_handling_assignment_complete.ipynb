{
 "cells": [
  {
   "cell_type": "markdown",
   "id": "9bf328d4",
   "metadata": {},
   "source": [
    "# File Handling, Exception Handling, and Multitasking in Python Assignment"
   ]
  },
  {
   "cell_type": "code",
   "execution_count": null,
   "id": "9fcbe4ea",
   "metadata": {},
   "outputs": [],
   "source": [
    "# 1. Write a code to read the contents of a file in Python\n",
    "with open('example.txt', 'r') as file:\n",
    "    content = file.read()\n",
    "    print(content)"
   ]
  },
  {
   "cell_type": "code",
   "execution_count": null,
   "id": "ff26dce9",
   "metadata": {},
   "outputs": [],
   "source": [
    "# 2. Write a code to write to a file in Python\n",
    "with open('example.txt', 'w') as file:\n",
    "    file.write('This is a test write operation.')"
   ]
  },
  {
   "cell_type": "code",
   "execution_count": null,
   "id": "0b281e9b",
   "metadata": {},
   "outputs": [],
   "source": [
    "# 3. Write a code to append to a file in Python\n",
    "with open('example.txt', 'a') as file:\n",
    "    file.write('\\nThis is an appended line.')"
   ]
  },
  {
   "cell_type": "code",
   "execution_count": null,
   "id": "4df32f09",
   "metadata": {},
   "outputs": [],
   "source": [
    "# 4. Write a code to read a binary file in Python\n",
    "with open('example.bin', 'rb') as file:\n",
    "    binary_content = file.read()\n",
    "    print(binary_content)"
   ]
  },
  {
   "cell_type": "markdown",
   "id": "ff6fa0d8",
   "metadata": {},
   "source": [
    "## 5. What happens if we don't use `with` keyword with `open` in Python\n",
    "If we don't use the `with` keyword, we must explicitly close the file using `file.close()`. Failure to do so can result in resource leaks or file locks."
   ]
  },
  {
   "cell_type": "markdown",
   "id": "44e10828",
   "metadata": {},
   "source": [
    "## 6. Explain the concept of buffering in file handling and how it helps in improving read and write operations\n",
    "Buffering is a technique where data is temporarily stored in a buffer before being read or written. This improves performance by reducing the number of read/write operations to the disk."
   ]
  },
  {
   "cell_type": "markdown",
   "id": "ecc94ee9",
   "metadata": {},
   "source": [
    "## 7. Describe the steps involved in implementing buffered file handling in a programming language of your choice\n",
    "1. Open the file in the desired mode (e.g., read, write).\n",
    "2. Specify a buffer size, if required.\n",
    "3. Perform read or write operations using the buffer.\n",
    "4. Ensure data is flushed to disk if writing."
   ]
  },
  {
   "cell_type": "code",
   "execution_count": null,
   "id": "986aff77",
   "metadata": {},
   "outputs": [],
   "source": [
    "# 8. Write a Python function to read a text file using buffered reading and return its contents\n",
    "def read_with_buffer(file_path):\n",
    "    with open(file_path, 'r', buffering=1024) as file:\n",
    "        return file.read()\n",
    "print(read_with_buffer('example.txt'))"
   ]
  },
  {
   "cell_type": "markdown",
   "id": "045fb928",
   "metadata": {},
   "source": [
    "## 9. What are the advantages of using buffered reading over direct file reading in Python\n",
    "- Reduces the number of system calls.\n",
    "- Improves performance for large files.\n",
    "- Allows for smoother data processing."
   ]
  },
  {
   "cell_type": "code",
   "execution_count": null,
   "id": "54f652ef",
   "metadata": {},
   "outputs": [],
   "source": [
    "# 10. Write a Python code snippet to append content to a file using buffered writing\n",
    "with open('example.txt', 'a', buffering=1024) as file:\n",
    "    file.write('\\nBuffered append operation.')"
   ]
  },
  {
   "cell_type": "code",
   "execution_count": null,
   "id": "7957aeb1",
   "metadata": {},
   "outputs": [],
   "source": [
    "# 11. Write a Python function that demonstrates the use of close() method on a file\n",
    "def demonstrate_close():\n",
    "    file = open('example.txt', 'r')\n",
    "    print(file.read())\n",
    "    file.close()\n",
    "demonstrate_close()"
   ]
  },
  {
   "cell_type": "code",
   "execution_count": null,
   "id": "25c8ba61",
   "metadata": {},
   "outputs": [],
   "source": [
    "# 12. Create a Python function to showcase the detach() method on a file object\n",
    "def demonstrate_detach():\n",
    "    import io\n",
    "    file = open('example.txt', 'r')\n",
    "    buffer = file.detach()\n",
    "    print(isinstance(buffer, io.RawIOBase))\n",
    "demonstrate_detach()"
   ]
  },
  {
   "cell_type": "code",
   "execution_count": null,
   "id": "1bf854ff",
   "metadata": {},
   "outputs": [],
   "source": [
    "# 13. Write a Python function to demonstrate the use of the seek() method to change the file position\n",
    "def demonstrate_seek():\n",
    "    with open('example.txt', 'r') as file:\n",
    "        file.seek(10)\n",
    "        print(file.read())\n",
    "demonstrate_seek()"
   ]
  },
  {
   "cell_type": "code",
   "execution_count": null,
   "id": "1e74eccb",
   "metadata": {},
   "outputs": [],
   "source": [
    "# 14. Create a Python function to return the file descriptor (integer number) of a file using the fileno() method\n",
    "def get_file_descriptor():\n",
    "    with open('example.txt', 'r') as file:\n",
    "        return file.fileno()\n",
    "print(get_file_descriptor())"
   ]
  },
  {
   "cell_type": "code",
   "execution_count": null,
   "id": "9cb82bc7",
   "metadata": {},
   "outputs": [],
   "source": [
    "# 15. Write a Python function to return the current position of the file's object using the tell() method\n",
    "def get_file_position():\n",
    "    with open('example.txt', 'r') as file:\n",
    "        file.read(10)\n",
    "        return file.tell()\n",
    "print(get_file_position())"
   ]
  },
  {
   "cell_type": "code",
   "execution_count": null,
   "id": "965255cb",
   "metadata": {},
   "outputs": [],
   "source": [
    "# 16. Create a Python program that logs a message to a file using the logging module\n",
    "import logging\n",
    "logging.basicConfig(filename='logfile.log', level=logging.INFO)\n",
    "logging.info('This is a logged message.')"
   ]
  },
  {
   "cell_type": "markdown",
   "id": "6907bafd",
   "metadata": {},
   "source": [
    "## 17. Explain the importance of logging levels in Python's logging module\n",
    "Logging levels (DEBUG, INFO, WARNING, ERROR, CRITICAL) help categorize messages by severity, allowing developers to filter logs effectively."
   ]
  },
  {
   "cell_type": "code",
   "execution_count": null,
   "id": "c28fefcb",
   "metadata": {},
   "outputs": [],
   "source": [
    "# 18. Create a Python program that uses the debugger to find the value of a variable inside a loop\n",
    "import pdb\n",
    "def debug_loop():\n",
    "    for i in range(5):\n",
    "        pdb.set_trace()  # Debugger breakpoint\n",
    "        print(f'Current value: {i}')\n",
    "debug_loop()"
   ]
  },
  {
   "cell_type": "code",
   "execution_count": null,
   "id": "7ce5e29f",
   "metadata": {},
   "outputs": [],
   "source": [
    "# 19. Create a Python program that demonstrates setting breakpoints and inspecting variables using the debugger\n",
    "import pdb\n",
    "def breakpoint_demo():\n",
    "    x, y = 10, 20\n",
    "    pdb.set_trace()  # Debugger breakpoint\n",
    "    z = x + y\n",
    "    print(f'Sum: {z}')\n",
    "breakpoint_demo()"
   ]
  },
  {
   "cell_type": "code",
   "execution_count": null,
   "id": "f31d3802",
   "metadata": {},
   "outputs": [],
   "source": [
    "# 20. Create a Python program that uses the debugger to trace a recursive function\n",
    "import pdb\n",
    "def factorial(n):\n",
    "    pdb.set_trace()  # Debugger breakpoint\n",
    "    if n == 1:\n",
    "        return 1\n",
    "    else:\n",
    "        return n * factorial(n-1)\n",
    "print(factorial(5))"
   ]
  },
  {
   "cell_type": "code",
   "execution_count": null,
   "id": "f6e6bc84",
   "metadata": {},
   "outputs": [],
   "source": [
    "# 21. Write a try-except block to handle a ZeroDivisionError\n",
    "try:\n",
    "    result = 10 / 0\n",
    "except ZeroDivisionError as e:\n",
    "    print(f'Error: {e}')"
   ]
  },
  {
   "cell_type": "markdown",
   "id": "42ff6b85",
   "metadata": {},
   "source": [
    "## 22. How does the else block work with try-except\n",
    "The `else` block executes only if the `try` block does not raise any exceptions."
   ]
  },
  {
   "cell_type": "code",
   "execution_count": null,
   "id": "5729f8a7",
   "metadata": {},
   "outputs": [],
   "source": [
    "# 23. Implement a try-except-else block to open and read a file\n",
    "try:\n",
    "    with open('example.txt', 'r') as file:\n",
    "        content = file.read()\n",
    "except FileNotFoundError as e:\n",
    "    print(f'Error: {e}')\n",
    "else:\n",
    "    print(content)"
   ]
  },
  {
   "cell_type": "markdown",
   "id": "19caf7f4",
   "metadata": {},
   "source": [
    "## 24. What is the purpose of the finally block in exception handling\n",
    "The `finally` block is executed regardless of whether an exception is raised or not. It is often used for cleanup actions like closing files or releasing resources."
   ]
  },
  {
   "cell_type": "code",
   "execution_count": null,
   "id": "8818bde1",
   "metadata": {},
   "outputs": [],
   "source": [
    "# 25. Write a try-except-finally block to handle a ValueError\n",
    "try:\n",
    "    num = int('invalid')\n",
    "except ValueError as e:\n",
    "    print(f'Error: {e}')\n",
    "finally:\n",
    "    print('Execution completed.')"
   ]
  },
  {
   "cell_type": "markdown",
   "id": "b0b45f0c",
   "metadata": {},
   "source": [
    "## 26. How multiple except blocks work in Python\n",
    "Multiple `except` blocks allow handling different exceptions separately. Python executes the first matching `except` block."
   ]
  },
  {
   "cell_type": "markdown",
   "id": "ca841e97",
   "metadata": {},
   "source": [
    "## 27. What is a custom exception in Python\n",
    "Custom exceptions are user-defined exceptions that inherit from the base `Exception` class. They allow for specific error handling in a program."
   ]
  },
  {
   "cell_type": "code",
   "execution_count": null,
   "id": "0c821951",
   "metadata": {},
   "outputs": [],
   "source": [
    "# 28. Create a custom exception class with a message\n",
    "class CustomError(Exception):\n",
    "    def __init__(self, message):\n",
    "        self.message = message\n",
    "        super().__init__(self.message)"
   ]
  },
  {
   "cell_type": "code",
   "execution_count": null,
   "id": "c1acad6c",
   "metadata": {},
   "outputs": [],
   "source": [
    "# 29. Write a code to raise a custom exception in Python\n",
    "class CustomError(Exception):\n",
    "    pass\n",
    "try:\n",
    "    raise CustomError('This is a custom error!')\n",
    "except CustomError as e:\n",
    "    print(e)"
   ]
  },
  {
   "cell_type": "code",
   "execution_count": null,
   "id": "466b6130",
   "metadata": {},
   "outputs": [],
   "source": [
    "# 30. Write a function that raises a custom exception when a value is negative\n",
    "class NegativeValueError(Exception):\n",
    "    pass\n",
    "def check_positive(value):\n",
    "    if value < 0:\n",
    "        raise NegativeValueError('Negative value encountered!')\n",
    "check_positive(-10)"
   ]
  },
  {
   "cell_type": "markdown",
   "id": "96a3f57d",
   "metadata": {},
   "source": [
    "## 31. What is multithreading\n",
    "Multithreading is a technique where multiple threads run concurrently within a single process, allowing parallel execution of tasks."
   ]
  },
  {
   "cell_type": "code",
   "execution_count": null,
   "id": "680e59d2",
   "metadata": {},
   "outputs": [],
   "source": [
    "# 32. Create a thread in Python\n",
    "import threading\n",
    "def print_numbers():\n",
    "    for i in range(5):\n",
    "        print(i)\n",
    "thread = threading.Thread(target=print_numbers)\n",
    "thread.start()"
   ]
  },
  {
   "cell_type": "markdown",
   "id": "7643e0ef",
   "metadata": {},
   "source": [
    "## 33. What is the Global Interpreter Lock (GIL) in Python\n",
    "The GIL is a mutex that allows only one thread to execute Python bytecode at a time, limiting true parallelism in multithreaded programs."
   ]
  },
  {
   "cell_type": "code",
   "execution_count": null,
   "id": "a1330623",
   "metadata": {},
   "outputs": [],
   "source": [
    "# 34. Implement a simple multithreading example in Python\n",
    "import threading\n",
    "def task(name):\n",
    "    print(f'Task {name} is running.')\n",
    "threads = [threading.Thread(target=task, args=(i,)) for i in range(3)]\n",
    "for t in threads:\n",
    "    t.start()"
   ]
  },
  {
   "cell_type": "markdown",
   "id": "c062303c",
   "metadata": {},
   "source": [
    "## 35. What is the purpose of the `join()` method in threading\n",
    "The `join()` method ensures that the main thread waits for the child thread to finish execution before continuing."
   ]
  },
  {
   "cell_type": "markdown",
   "id": "4a1f6fe1",
   "metadata": {},
   "source": [
    "## 36. Describe a scenario where multithreading would be beneficial in Python\n",
    "Multithreading is beneficial in I/O-bound tasks, such as downloading files or reading large datasets, where threads can work while waiting for I/O operations to complete."
   ]
  },
  {
   "cell_type": "markdown",
   "id": "f1788b58",
   "metadata": {},
   "source": [
    "## 37. What is multiprocessing in Python\n",
    "Multiprocessing allows creating separate processes for parallel execution, bypassing the GIL limitation."
   ]
  },
  {
   "cell_type": "markdown",
   "id": "f2efe442",
   "metadata": {},
   "source": [
    "## 38. How is multiprocessing different from multithreading in Python\n",
    "- Multithreading shares memory space, whereas multiprocessing uses separate memory space.\n",
    "- Multiprocessing allows true parallelism."
   ]
  },
  {
   "cell_type": "code",
   "execution_count": null,
   "id": "7a0d3c4a",
   "metadata": {},
   "outputs": [],
   "source": [
    "# 39. Create a process using the multiprocessing module in Python\n",
    "from multiprocessing import Process\n",
    "def process_task():\n",
    "    print('Process is running.')\n",
    "process = Process(target=process_task)\n",
    "process.start()\n",
    "process.join()"
   ]
  },
  {
   "cell_type": "markdown",
   "id": "4e9ca6cd",
   "metadata": {},
   "source": [
    "## 40. Explain the concept of Pool in the multiprocessing module\n",
    "The `Pool` class in the multiprocessing module allows managing multiple worker processes efficiently. It provides methods like `apply`, `map`, and `close` for distributing tasks among processes."
   ]
  }
 ],
 "metadata": {},
 "nbformat": 4,
 "nbformat_minor": 5
}